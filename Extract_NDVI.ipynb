{
 "cells": [
  {
   "cell_type": "markdown",
   "id": "2ac22c00-fe59-43a0-af3f-82c9ab54057b",
   "metadata": {},
   "source": [
    "## Extract NDVI (Landsat - 8)"
   ]
  },
  {
   "cell_type": "code",
   "execution_count": 33,
   "id": "7cc16428-503f-49b1-930a-ac1e7b0bd53a",
   "metadata": {},
   "outputs": [
    {
     "data": {
      "text/html": [
       "\n",
       "            <style>\n",
       "                .geemap-dark {\n",
       "                    --jp-widgets-color: white;\n",
       "                    --jp-widgets-label-color: white;\n",
       "                    --jp-ui-font-color1: white;\n",
       "                    --jp-layout-color2: #454545;\n",
       "                    background-color: #383838;\n",
       "                }\n",
       "\n",
       "                .geemap-dark .jupyter-button {\n",
       "                    --jp-layout-color3: #383838;\n",
       "                }\n",
       "\n",
       "                .geemap-colab {\n",
       "                    background-color: var(--colab-primary-surface-color, white);\n",
       "                }\n",
       "\n",
       "                .geemap-colab .jupyter-button {\n",
       "                    --jp-layout-color3: var(--colab-primary-surface-color, white);\n",
       "                }\n",
       "            </style>\n",
       "            "
      ],
      "text/plain": [
       "<IPython.core.display.HTML object>"
      ]
     },
     "metadata": {},
     "output_type": "display_data"
    }
   ],
   "source": [
    "import ee\n",
    "import folium\n",
    "import geemap"
   ]
  },
  {
   "cell_type": "code",
   "execution_count": 65,
   "id": "e34beb9a-f018-4784-be21-c64fd14c3b3e",
   "metadata": {},
   "outputs": [
    {
     "data": {
      "text/html": [
       "\n",
       "            <style>\n",
       "                .geemap-dark {\n",
       "                    --jp-widgets-color: white;\n",
       "                    --jp-widgets-label-color: white;\n",
       "                    --jp-ui-font-color1: white;\n",
       "                    --jp-layout-color2: #454545;\n",
       "                    background-color: #383838;\n",
       "                }\n",
       "\n",
       "                .geemap-dark .jupyter-button {\n",
       "                    --jp-layout-color3: #383838;\n",
       "                }\n",
       "\n",
       "                .geemap-colab {\n",
       "                    background-color: var(--colab-primary-surface-color, white);\n",
       "                }\n",
       "\n",
       "                .geemap-colab .jupyter-button {\n",
       "                    --jp-layout-color3: var(--colab-primary-surface-color, white);\n",
       "                }\n",
       "            </style>\n",
       "            "
      ],
      "text/plain": [
       "<IPython.core.display.HTML object>"
      ]
     },
     "metadata": {},
     "output_type": "display_data"
    },
    {
     "data": {
      "text/plain": [
       "True"
      ]
     },
     "execution_count": 65,
     "metadata": {},
     "output_type": "execute_result"
    }
   ],
   "source": [
    "# Authenticate\n",
    "ee.Authenticate()"
   ]
  },
  {
   "cell_type": "code",
   "execution_count": 35,
   "id": "aa95b322-f11a-4ecd-b616-9a0ce19e6a24",
   "metadata": {},
   "outputs": [
    {
     "data": {
      "text/html": [
       "\n",
       "            <style>\n",
       "                .geemap-dark {\n",
       "                    --jp-widgets-color: white;\n",
       "                    --jp-widgets-label-color: white;\n",
       "                    --jp-ui-font-color1: white;\n",
       "                    --jp-layout-color2: #454545;\n",
       "                    background-color: #383838;\n",
       "                }\n",
       "\n",
       "                .geemap-dark .jupyter-button {\n",
       "                    --jp-layout-color3: #383838;\n",
       "                }\n",
       "\n",
       "                .geemap-colab {\n",
       "                    background-color: var(--colab-primary-surface-color, white);\n",
       "                }\n",
       "\n",
       "                .geemap-colab .jupyter-button {\n",
       "                    --jp-layout-color3: var(--colab-primary-surface-color, white);\n",
       "                }\n",
       "            </style>\n",
       "            "
      ],
      "text/plain": [
       "<IPython.core.display.HTML object>"
      ]
     },
     "metadata": {},
     "output_type": "display_data"
    }
   ],
   "source": [
    "# Initialize Earth Engine\n",
    "ee.Initialize(project='ee-gisengineer17')"
   ]
  },
  {
   "cell_type": "code",
   "execution_count": null,
   "id": "f1ba9dc5-69c9-4b26-9fe5-6ced778895a1",
   "metadata": {},
   "outputs": [],
   "source": [
    "# Define AOI\n",
    "aoi = ee.Geometry.Rectangle([78.5, 20.5, 79.5, 21.5])"
   ]
  },
  {
   "cell_type": "markdown",
   "id": "37a7519b-ab17-4d2a-bdd8-ac4244dcefdf",
   "metadata": {},
   "source": [
    "#### 1. Landsat 8 Collection 2, Tier 1, TOA (Top of Atmosphere) reflectance data.\n",
    "#### 2. Landsat 8 Bands:\n",
    "B1: Coastal/Aerosol (0.43-0.45 µm)\n",
    "\n",
    "B2: Blue (0.45-0.51 µm)\n",
    "\n",
    "B3: Green (0.53-0.59 µm)\n",
    "\n",
    "B4: Red (0.64-0.67 µm)\n",
    "\n",
    "B5: Near Infrared (NIR) (0.85-0.88 µm)\n",
    "\n",
    "B6: Shortwave Infrared 1 (SWIR1) (1.57-1.65 µm)\n",
    "\n",
    "B7: Shortwave Infrared 2 (SWIR2) (2.11-2.29 µm)\n",
    "\n",
    "B8: Panchromatic (0.50-0.68 µm, high-resolution 15m)\n",
    "\n",
    "B9: Cirrus (1.36-1.38 µm)\n",
    "\n",
    "B10, B11: Thermal Infrared (TIR1, TIR2)"
   ]
  },
  {
   "cell_type": "code",
   "execution_count": 80,
   "id": "cc3be554-22b0-4b76-9dad-86a4106a80a1",
   "metadata": {},
   "outputs": [
    {
     "data": {
      "text/html": [
       "\n",
       "            <style>\n",
       "                .geemap-dark {\n",
       "                    --jp-widgets-color: white;\n",
       "                    --jp-widgets-label-color: white;\n",
       "                    --jp-ui-font-color1: white;\n",
       "                    --jp-layout-color2: #454545;\n",
       "                    background-color: #383838;\n",
       "                }\n",
       "\n",
       "                .geemap-dark .jupyter-button {\n",
       "                    --jp-layout-color3: #383838;\n",
       "                }\n",
       "\n",
       "                .geemap-colab {\n",
       "                    background-color: var(--colab-primary-surface-color, white);\n",
       "                }\n",
       "\n",
       "                .geemap-colab .jupyter-button {\n",
       "                    --jp-layout-color3: var(--colab-primary-surface-color, white);\n",
       "                }\n",
       "            </style>\n",
       "            "
      ],
      "text/plain": [
       "<IPython.core.display.HTML object>"
      ]
     },
     "metadata": {},
     "output_type": "display_data"
    }
   ],
   "source": [
    "# Load Landsat-8 Image Collection\n",
    "image = (ee.ImageCollection(\"LANDSAT/LC08/C02/T1_TOA\")  # Landsat 8 TOA Reflectance.\n",
    "         .filterBounds(aoi)  # Filter by AOI.\n",
    "         .filterDate('2013-04-11', '2024-03-10')   # Landsat-8 available from April 2013.\n",
    "         .filter(ee.Filter.lt('CLOUD_COVER', 10))  # Filter low cloud cover, Helps improve NDVI accuracy by removing cloudy pixels.\n",
    "         .median()  # Merge images to reduce gaps, Helps remove clouds and shadows, Reduces noise from atmospheric conditions. \n",
    "         .clip(aoi))  # Clip to AOI"
   ]
  },
  {
   "cell_type": "markdown",
   "id": "7e7dba8a-fb74-4fce-8d6d-44cddb868432",
   "metadata": {},
   "source": [
    "NDVI values range from -1 to +1:"
   ]
  },
  {
   "cell_type": "markdown",
   "id": "508d9d77-e278-43b6-b9ff-c05fbc71a471",
   "metadata": {},
   "source": [
    "NDVI values range from -1 to +1:\n",
    "\n",
    "+0.6 to +1.0 → Dense green vegetation\n",
    "\n",
    "+0.2 to +0.5 → Sparse vegetation \n",
    "\n",
    "Negative values → Water, snow, or built-up areas"
   ]
  },
  {
   "cell_type": "markdown",
   "id": "80459008-8e60-40e5-97df-3a06c672a1d1",
   "metadata": {},
   "source": [
    "#### The .normalizedDifference(['B5', 'B4']) method in Google Earth Engine (GEE) automatically applies:"
   ]
  },
  {
   "cell_type": "code",
   "execution_count": 74,
   "id": "c302e432-b160-48b7-85a5-2fd3355967f0",
   "metadata": {},
   "outputs": [
    {
     "data": {
      "text/html": [
       "\n",
       "            <style>\n",
       "                .geemap-dark {\n",
       "                    --jp-widgets-color: white;\n",
       "                    --jp-widgets-label-color: white;\n",
       "                    --jp-ui-font-color1: white;\n",
       "                    --jp-layout-color2: #454545;\n",
       "                    background-color: #383838;\n",
       "                }\n",
       "\n",
       "                .geemap-dark .jupyter-button {\n",
       "                    --jp-layout-color3: #383838;\n",
       "                }\n",
       "\n",
       "                .geemap-colab {\n",
       "                    background-color: var(--colab-primary-surface-color, white);\n",
       "                }\n",
       "\n",
       "                .geemap-colab .jupyter-button {\n",
       "                    --jp-layout-color3: var(--colab-primary-surface-color, white);\n",
       "                }\n",
       "            </style>\n",
       "            "
      ],
      "text/plain": [
       "<IPython.core.display.HTML object>"
      ]
     },
     "metadata": {},
     "output_type": "display_data"
    }
   ],
   "source": [
    "# Compute NDVI: (NIR - Red) / (NIR + Red)\n",
    "ndvi = image.normalizedDifference(['B5', 'B4']).rename(\"NDVI\") "
   ]
  },
  {
   "cell_type": "code",
   "execution_count": 68,
   "id": "a0247f05-f012-48a1-9a57-cd3c4f93cfd6",
   "metadata": {},
   "outputs": [
    {
     "data": {
      "text/html": [
       "\n",
       "            <style>\n",
       "                .geemap-dark {\n",
       "                    --jp-widgets-color: white;\n",
       "                    --jp-widgets-label-color: white;\n",
       "                    --jp-ui-font-color1: white;\n",
       "                    --jp-layout-color2: #454545;\n",
       "                    background-color: #383838;\n",
       "                }\n",
       "\n",
       "                .geemap-dark .jupyter-button {\n",
       "                    --jp-layout-color3: #383838;\n",
       "                }\n",
       "\n",
       "                .geemap-colab {\n",
       "                    background-color: var(--colab-primary-surface-color, white);\n",
       "                }\n",
       "\n",
       "                .geemap-colab .jupyter-button {\n",
       "                    --jp-layout-color3: var(--colab-primary-surface-color, white);\n",
       "                }\n",
       "            </style>\n",
       "            "
      ],
      "text/plain": [
       "<IPython.core.display.HTML object>"
      ]
     },
     "metadata": {},
     "output_type": "display_data"
    }
   ],
   "source": [
    "# Map visualization parameters\n",
    "ndvi_vis = {\n",
    "    'min': -1,\n",
    "    'max': 1,\n",
    "    'palette': ['blue', 'white', 'green']\n",
    "}"
   ]
  },
  {
   "cell_type": "code",
   "execution_count": 79,
   "id": "0a998978-720f-4ffa-8609-249b60a92441",
   "metadata": {},
   "outputs": [
    {
     "data": {
      "text/html": [
       "\n",
       "            <style>\n",
       "                .geemap-dark {\n",
       "                    --jp-widgets-color: white;\n",
       "                    --jp-widgets-label-color: white;\n",
       "                    --jp-ui-font-color1: white;\n",
       "                    --jp-layout-color2: #454545;\n",
       "                    background-color: #383838;\n",
       "                }\n",
       "\n",
       "                .geemap-dark .jupyter-button {\n",
       "                    --jp-layout-color3: #383838;\n",
       "                }\n",
       "\n",
       "                .geemap-colab {\n",
       "                    background-color: var(--colab-primary-surface-color, white);\n",
       "                }\n",
       "\n",
       "                .geemap-colab .jupyter-button {\n",
       "                    --jp-layout-color3: var(--colab-primary-surface-color, white);\n",
       "                }\n",
       "            </style>\n",
       "            "
      ],
      "text/plain": [
       "<IPython.core.display.HTML object>"
      ]
     },
     "metadata": {},
     "output_type": "display_data"
    },
    {
     "data": {
      "application/vnd.jupyter.widget-view+json": {
       "model_id": "5bb5533167cb4119b10c8d5e08f41f2b",
       "version_major": 2,
       "version_minor": 0
      },
      "text/plain": [
       "Map(center=[21.0, 79.0], controls=(WidgetControl(options=['position', 'transparent_bg'], widget=SearchDataGUI(…"
      ]
     },
     "execution_count": 79,
     "metadata": {},
     "output_type": "execute_result"
    }
   ],
   "source": [
    "# Create a map\n",
    "m = geemap.Map(center=[21.0, 79.0], zoom=9)\n",
    "m.addLayer(aoi, {\"color\": \"red\"}, \"Bounding Box\")\n",
    "m.addLayer(ndvi, ndvi_vis, \"NDVI from Landsat-8\")\n",
    "m"
   ]
  },
  {
   "cell_type": "markdown",
   "id": "c50fea78-b62d-4959-b061-148a148860e5",
   "metadata": {},
   "source": [
    "#### Available image count"
   ]
  },
  {
   "cell_type": "code",
   "execution_count": 64,
   "id": "7750cb98-76a1-4487-972c-aecc28b3e583",
   "metadata": {},
   "outputs": [
    {
     "data": {
      "text/html": [
       "\n",
       "            <style>\n",
       "                .geemap-dark {\n",
       "                    --jp-widgets-color: white;\n",
       "                    --jp-widgets-label-color: white;\n",
       "                    --jp-ui-font-color1: white;\n",
       "                    --jp-layout-color2: #454545;\n",
       "                    background-color: #383838;\n",
       "                }\n",
       "\n",
       "                .geemap-dark .jupyter-button {\n",
       "                    --jp-layout-color3: #383838;\n",
       "                }\n",
       "\n",
       "                .geemap-colab {\n",
       "                    background-color: var(--colab-primary-surface-color, white);\n",
       "                }\n",
       "\n",
       "                .geemap-colab .jupyter-button {\n",
       "                    --jp-layout-color3: var(--colab-primary-surface-color, white);\n",
       "                }\n",
       "            </style>\n",
       "            "
      ],
      "text/plain": [
       "<IPython.core.display.HTML object>"
      ]
     },
     "metadata": {},
     "output_type": "display_data"
    },
    {
     "name": "stdout",
     "output_type": "stream",
     "text": [
      "Available Landsat-8 images: 616\n"
     ]
    }
   ],
   "source": [
    "count = (ee.ImageCollection(\"LANDSAT/LC08/C02/T1_TOA\")\n",
    "         .filterBounds(aoi)\n",
    "         .filterDate('2013-04-11', '2024-03-10')\n",
    "         .size().getInfo())\n",
    "print(f\"Available Landsat-8 images: {count}\")"
   ]
  },
  {
   "cell_type": "code",
   "execution_count": null,
   "id": "eb734952-d490-47b1-a7fa-d212a43a1507",
   "metadata": {},
   "outputs": [],
   "source": []
  }
 ],
 "metadata": {
  "kernelspec": {
   "display_name": "Python (GIS)",
   "language": "python",
   "name": "gis_env"
  },
  "language_info": {
   "codemirror_mode": {
    "name": "ipython",
    "version": 3
   },
   "file_extension": ".py",
   "mimetype": "text/x-python",
   "name": "python",
   "nbconvert_exporter": "python",
   "pygments_lexer": "ipython3",
   "version": "3.10.16"
  }
 },
 "nbformat": 4,
 "nbformat_minor": 5
}
